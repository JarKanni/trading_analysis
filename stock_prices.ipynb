{
 "cells": [
  {
   "cell_type": "code",
   "execution_count": 1,
   "id": "e6e002a3-2146-49de-9ef2-e92597784226",
   "metadata": {},
   "outputs": [],
   "source": [
    "# Goal:  create stock price charts\n",
    "#          - 5min, 15min, 1day bars\n",
    "#        add indicators for analysis"
   ]
  },
  {
   "cell_type": "code",
   "execution_count": 16,
   "id": "02edd581-5f59-453a-afaf-c3b95be6e1cb",
   "metadata": {},
   "outputs": [],
   "source": [
    "import pandas as pd\n",
    "import numpy as np\n",
    "import requests\n",
    "import dotenv\n",
    "import os\n",
    "\n",
    "#load variables from .env\n",
    "dotenv.load_dotenv()\n",
    "api_key = os.environ.get('AV_API')"
   ]
  },
  {
   "cell_type": "code",
   "execution_count": 33,
   "id": "3d34774a-69bc-4fd7-8cd2-e67700e5a235",
   "metadata": {
    "scrolled": true
   },
   "outputs": [
    {
     "ename": "KeyError",
     "evalue": "'Time Series (5min)'",
     "output_type": "error",
     "traceback": [
      "\u001b[1;31m---------------------------------------------------------------------------\u001b[0m",
      "\u001b[1;31mKeyError\u001b[0m                                  Traceback (most recent call last)",
      "Cell \u001b[1;32mIn[33], line 7\u001b[0m\n\u001b[0;32m      5\u001b[0m url \u001b[38;5;241m=\u001b[39m \u001b[38;5;124m'\u001b[39m\u001b[38;5;124mhttps://www.alphavantage.co/query?function=TIME_SERIES_INTRADAY&symbol=\u001b[39m\u001b[38;5;124m'\u001b[39m \u001b[38;5;241m+\u001b[39m symbol \u001b[38;5;241m+\u001b[39m \u001b[38;5;124m'\u001b[39m\u001b[38;5;124m&interval=5min&apikey=$AV_API\u001b[39m\u001b[38;5;124m'\u001b[39m\n\u001b[0;32m      6\u001b[0m json \u001b[38;5;241m=\u001b[39m requests\u001b[38;5;241m.\u001b[39mget(url)\u001b[38;5;241m.\u001b[39mjson()\n\u001b[1;32m----> 7\u001b[0m df \u001b[38;5;241m=\u001b[39m pd\u001b[38;5;241m.\u001b[39mjson_normalize(json[\u001b[38;5;124m'\u001b[39m\u001b[38;5;124mTime Series (5min)\u001b[39m\u001b[38;5;124m'\u001b[39m])\n\u001b[0;32m      9\u001b[0m \u001b[38;5;66;03m#df = df.columns\u001b[39;00m\n\u001b[0;32m     10\u001b[0m \n\u001b[0;32m     11\u001b[0m \u001b[38;5;66;03m# download file\u001b[39;00m\n\u001b[0;32m     12\u001b[0m df\u001b[38;5;241m.\u001b[39mto_csv(symbol, index\u001b[38;5;241m=\u001b[39m\u001b[38;5;28;01mFalse\u001b[39;00m)\n",
      "\u001b[1;31mKeyError\u001b[0m: 'Time Series (5min)'"
     ]
    }
   ],
   "source": [
    "# Get symbol data\n",
    "# Graph 5min bars\n",
    "symbol = 'NVDA'\n",
    "\n",
    "url = 'https://www.alphavantage.co/query?function=TIME_SERIES_INTRADAY&symbol=' + symbol + '&interval=5min&apikey=$AV_API'\n",
    "json = requests.get(url).json()\n",
    "df = pd.json_normalize(json['Time Series (5min)'])\n",
    "\n",
    "#df = df.columns\n",
    "\n",
    "# download file\n",
    "df.to_csv(symbol, index=False)\n",
    "\n",
    "print(df)"
   ]
  },
  {
   "cell_type": "markdown",
   "id": "a986db9d-42c2-41b3-b513-ccdc5469e2d2",
   "metadata": {},
   "source": [
    "---"
   ]
  },
  {
   "cell_type": "code",
   "execution_count": 7,
   "id": "4b2b4fa8-4536-4779-98da-a92643e311f3",
   "metadata": {},
   "outputs": [
    {
     "name": "stdout",
     "output_type": "stream",
     "text": [
      "             date  value\n",
      "0      2024-11-25  69.41\n",
      "1      2024-11-22  71.68\n",
      "2      2024-11-21  70.39\n",
      "3      2024-11-20  69.25\n",
      "4      2024-11-19  69.75\n",
      "...           ...    ...\n",
      "10143  1986-01-08  25.87\n",
      "10144  1986-01-07  25.85\n",
      "10145  1986-01-06  26.53\n",
      "10146  1986-01-03  26.00\n",
      "10147  1986-01-02  25.56\n",
      "\n",
      "[10148 rows x 2 columns]\n"
     ]
    }
   ],
   "source": [
    "# WTI Crude Oil daily price chart\n",
    "\n",
    "url = 'https://www.alphavantage.co/query?function=WTI&interval=daily&apikey=$AV_API'\n",
    "json = requests.get(url).json()\n",
    "df = pd.json_normalize(json['data'])\n",
    "\n",
    "# download file\n",
    "df.to_csv('Oil.csv', index=False)\n",
    "\n",
    "print(df.head())"
   ]
  },
  {
   "cell_type": "markdown",
   "id": "6d261fe3-1fa2-4b67-9f11-9f0367c20adf",
   "metadata": {},
   "source": [
    "\n",
    "---\n"
   ]
  },
  {
   "cell_type": "code",
   "execution_count": 38,
   "id": "6b92cea9-3345-4e6b-ade7-d0f2b20f86fc",
   "metadata": {},
   "outputs": [
    {
     "name": "stdout",
     "output_type": "stream",
     "text": [
      "         open        high         low       close   volume\n",
      "0  '138.1250'  '138.1500'  '138.0300'  '138.1000'  '80477'\n",
      "1  '138.1899'  '138.1900'  '138.1200'  '138.1300'  '39151'\n",
      "2  '138.2400'  '138.2500'  '138.1800'  '138.1900'  '43815'\n",
      "3  '138.2600'  '138.2800'  '138.2300'  '138.2400'  '28241'\n",
      "4  '138.2600'  '138.2700'  '138.2200'  '138.2600'  '25771'\n"
     ]
    }
   ],
   "source": [
    "# load file\n",
    "\n",
    "df = pd.read_csv('NVDA_5min_clean.csv')\n",
    "\n",
    "print(df.head())\n",
    "\n"
   ]
  },
  {
   "cell_type": "code",
   "execution_count": null,
   "id": "7fcf9816-50b6-406e-bece-ad7800c85180",
   "metadata": {},
   "outputs": [],
   "source": [
    "# plot candles\n",
    "\n"
   ]
  }
 ],
 "metadata": {
  "kernelspec": {
   "display_name": "Python 3 (ipykernel)",
   "language": "python",
   "name": "python3"
  },
  "language_info": {
   "codemirror_mode": {
    "name": "ipython",
    "version": 3
   },
   "file_extension": ".py",
   "mimetype": "text/x-python",
   "name": "python",
   "nbconvert_exporter": "python",
   "pygments_lexer": "ipython3",
   "version": "3.12.7"
  }
 },
 "nbformat": 4,
 "nbformat_minor": 5
}
