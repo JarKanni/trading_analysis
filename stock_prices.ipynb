{
 "cells": [
  {
   "cell_type": "code",
   "execution_count": null,
   "id": "e6e002a3-2146-49de-9ef2-e92597784226",
   "metadata": {},
   "outputs": [],
   "source": [
    "# Goal:  create stock price charts\n",
    "#          - 5min, 15min, 1day bars\n",
    "#        add indicators for analysis"
   ]
  },
  {
   "cell_type": "code",
   "execution_count": 37,
   "id": "02edd581-5f59-453a-afaf-c3b95be6e1cb",
   "metadata": {},
   "outputs": [],
   "source": [
    "import pandas as pd\n",
    "import requests\n",
    "import dotenv\n",
    "import os\n",
    "\n",
    "dotenv.load_dotenv()\n",
    "api_key = os.environ.get('AV_API')\n",
    "\n",
    "symbol = 'NVDA'"
   ]
  },
  {
   "cell_type": "code",
   "execution_count": 38,
   "id": "3d34774a-69bc-4fd7-8cd2-e67700e5a235",
   "metadata": {
    "scrolled": true
   },
   "outputs": [
    {
     "name": "stdout",
     "output_type": "stream",
     "text": [
      "  2024-11-29 16:55:00.1. open 2024-11-29 16:55:00.2. high  \\\n",
      "0                    138.1200                    138.1500   \n",
      "\n",
      "  2024-11-29 16:55:00.3. low 2024-11-29 16:55:00.4. close  \\\n",
      "0                   138.1100                     138.1400   \n",
      "\n",
      "  2024-11-29 16:55:00.5. volume 2024-11-29 16:50:00.1. open  \\\n",
      "0                         22089                    138.1200   \n",
      "\n",
      "  2024-11-29 16:50:00.2. high 2024-11-29 16:50:00.3. low  \\\n",
      "0                    138.1400                   138.1100   \n",
      "\n",
      "  2024-11-29 16:50:00.4. close 2024-11-29 16:50:00.5. volume  ...  \\\n",
      "0                     138.1100                         21243  ...   \n",
      "\n",
      "  2024-11-29 08:45:00.1. open 2024-11-29 08:45:00.2. high  \\\n",
      "0                    136.5191                    136.5200   \n",
      "\n",
      "  2024-11-29 08:45:00.3. low 2024-11-29 08:45:00.4. close  \\\n",
      "0                   136.2700                     136.2801   \n",
      "\n",
      "  2024-11-29 08:45:00.5. volume 2024-11-29 08:40:00.1. open  \\\n",
      "0                        151011                    136.5800   \n",
      "\n",
      "  2024-11-29 08:40:00.2. high 2024-11-29 08:40:00.3. low  \\\n",
      "0                    136.6700                   136.4800   \n",
      "\n",
      "  2024-11-29 08:40:00.4. close 2024-11-29 08:40:00.5. volume  \n",
      "0                     136.5200                        100785  \n",
      "\n",
      "[1 rows x 500 columns]\n"
     ]
    }
   ],
   "source": [
    "# Get symbol data\n",
    "# Graph 5min bars\n",
    "\n",
    "url = 'https://www.alphavantage.co/query?function=TIME_SERIES_INTRADAY&symbol=' + symbol + '&interval=5min&apikey=$AV_API'\n",
    "json = requests.get(url).json()\n",
    "df = pd.json_normalize(json['Time Series (5min)'])\n",
    "\n",
    "print(df)"
   ]
  },
  {
   "cell_type": "code",
   "execution_count": 45,
   "id": "4b2b4fa8-4536-4779-98da-a92643e311f3",
   "metadata": {},
   "outputs": [
    {
     "name": "stdout",
     "output_type": "stream",
     "text": [
      "                                         Information\n",
      "0  Thank you for using Alpha Vantage! Our standar...\n"
     ]
    }
   ],
   "source": [
    "# WTI Crude Oil daily price chart\n",
    "\n",
    "url = 'https://www.alphavantage.co/query?function=WTI&interval=daily&apikey=$AV_API'\n",
    "json = requests.get(url).json()\n",
    "df = pd.json_normalize(json['data'])\n",
    "\n",
    "print(df)"
   ]
  },
  {
   "cell_type": "code",
   "execution_count": 43,
   "id": "c45a2f88-7050-4574-b132-4e4ba99b4ca0",
   "metadata": {},
   "outputs": [
    {
     "name": "stdout",
     "output_type": "stream",
     "text": [
      "{'Information': 'Thank you for using Alpha Vantage! Our standard API rate limit is 25 requests per day. Please subscribe to any of the premium plans at https://www.alphavantage.co/premium/ to instantly remove all daily rate limits.'}\n"
     ]
    }
   ],
   "source": [
    "# Get symbol data in CSV format\n",
    "# Graph 5min bars\n",
    "\n",
    "url = 'https://www.alphavantage.co/query?function=TIME_SERIES_INTRADAY&symbol=' + symbol + '&interval=5min&datatype=csv&apikey=$AV_API'\n",
    "r = requests.get(url).json()\n",
    "#df = pd.read_csv(r)\n",
    "\n",
    "print(r)"
   ]
  },
  {
   "cell_type": "code",
   "execution_count": null,
   "id": "6b92cea9-3345-4e6b-ade7-d0f2b20f86fc",
   "metadata": {},
   "outputs": [],
   "source": []
  }
 ],
 "metadata": {
  "kernelspec": {
   "display_name": "Python 3 (ipykernel)",
   "language": "python",
   "name": "python3"
  },
  "language_info": {
   "codemirror_mode": {
    "name": "ipython",
    "version": 3
   },
   "file_extension": ".py",
   "mimetype": "text/x-python",
   "name": "python",
   "nbconvert_exporter": "python",
   "pygments_lexer": "ipython3",
   "version": "3.12.7"
  }
 },
 "nbformat": 4,
 "nbformat_minor": 5
}
